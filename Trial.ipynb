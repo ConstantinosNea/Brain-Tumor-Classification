{
  "nbformat": 4,
  "nbformat_minor": 0,
  "metadata": {
    "colab": {
      "provenance": [],
      "authorship_tag": "ABX9TyOIX+xiDQk6kH3G1ISR+9/H",
      "include_colab_link": true
    },
    "kernelspec": {
      "name": "python3",
      "display_name": "Python 3"
    },
    "language_info": {
      "name": "python"
    }
  },
  "cells": [
    {
      "cell_type": "markdown",
      "metadata": {
        "id": "view-in-github",
        "colab_type": "text"
      },
      "source": [
        "<a href=\"https://colab.research.google.com/github/costpetrides/Brain-Tumor-Classification/blob/main/Trial.ipynb\" target=\"_parent\"><img src=\"https://colab.research.google.com/assets/colab-badge.svg\" alt=\"Open In Colab\"/></a>"
      ]
    },
    {
      "cell_type": "code",
      "source": [
        "from tensorflow.keras.models import load_model\n",
        "import numpy as np\n",
        "from tensorflow import keras\n",
        "from PIL import Image\n",
        "\n",
        "model = load_model('/content/BrainTumor_1.h5')\n",
        "\n",
        "image_path = '/content/glioma.png'   # Doctors said that was minigioma :(\n",
        "new_image = Image.open(image_path)\n",
        "new_image = new_image.resize((180, 180))\n",
        "new_image = new_image.convert('RGB')  # Convert to RGB format\n",
        "new_image = np.array(new_image) / 255.0\n",
        "\n",
        "# Make a prediction\n",
        "predicted_probabilities = model.predict(np.expand_dims(new_image, axis=0))\n",
        "\n",
        "predicted_class = np.argmax(predicted_probabilities)\n",
        "\n",
        "class_labels = ['notumor', 'pituitary', 'glioma', 'meningioma']\n",
        "\n",
        "predicted_label = class_labels[predicted_class]\n",
        "\n",
        "print(f\"Predicted Class: {predicted_label}\")\n",
        "print(f\"Class Probabilities: {predicted_probabilities}\")\n"
      ],
      "metadata": {
        "colab": {
          "base_uri": "https://localhost:8080/"
        },
        "id": "YHuZ0LKRgid7",
        "outputId": "89b0b518-7f10-4558-858a-d87082084d1d"
      },
      "execution_count": 23,
      "outputs": [
        {
          "output_type": "stream",
          "name": "stdout",
          "text": [
            "1/1 [==============================] - 0s 68ms/step\n",
            "Predicted Class: glioma\n",
            "Class Probabilities: [[1.7779818e-03 2.4176585e-03 9.9562365e-01 1.8079324e-04]]\n"
          ]
        }
      ]
    },
    {
      "cell_type": "code",
      "source": [
        "from tensorflow.keras.models import load_model\n",
        "import numpy as np\n",
        "from tensorflow import keras\n",
        "from PIL import Image\n",
        "\n",
        "model = load_model('/content/BrainTumor_1.h5')\n",
        "\n",
        "image_path = '/content/minigioma.jpeg'   # Doctors said that was minigioma :(\n",
        "new_image = Image.open(image_path)\n",
        "new_image = new_image.resize((180, 180))\n",
        "new_image = new_image.convert('RGB')  # Convert to RGB format\n",
        "new_image = np.array(new_image) / 255.0\n",
        "\n",
        "# Make a prediction\n",
        "predicted_probabilities = model.predict(np.expand_dims(new_image, axis=0))\n",
        "\n",
        "predicted_class = np.argmax(predicted_probabilities)\n",
        "\n",
        "class_labels = ['notumor', 'meningioma', 'glioma', 'pituitary']\n",
        "\n",
        "predicted_label = class_labels[predicted_class]\n",
        "\n",
        "print(f\"Predicted Class: {predicted_label}\")\n",
        "print(f\"Class Probabilities: {predicted_probabilities}\")\n"
      ],
      "metadata": {
        "colab": {
          "base_uri": "https://localhost:8080/"
        },
        "id": "iqn7Sld_i4H7",
        "outputId": "dbf01a84-8a99-4af3-8dd0-213a3e62481d"
      },
      "execution_count": 25,
      "outputs": [
        {
          "output_type": "stream",
          "name": "stdout",
          "text": [
            "1/1 [==============================] - 0s 69ms/step\n",
            "Predicted Class: meningioma\n",
            "Class Probabilities: [[3.3415768e-14 9.9932361e-01 6.7641283e-04 1.1515903e-12]]\n"
          ]
        }
      ]
    },
    {
      "cell_type": "code",
      "source": [
        "from tensorflow.keras.models import load_model\n",
        "import numpy as np\n",
        "from tensorflow import keras\n",
        "from PIL import Image\n",
        "\n",
        "model = load_model('/content/BrainTumor_1.h5')\n",
        "\n",
        "image_path = '/content/pituitary.jpg'   # Doctors said that was minigioma :(\n",
        "new_image = Image.open(image_path)\n",
        "new_image = new_image.resize((180, 180))\n",
        "new_image = new_image.convert('RGB')  # Convert to RGB format\n",
        "new_image = np.array(new_image) / 255.0\n",
        "\n",
        "# Make a prediction\n",
        "predicted_probabilities = model.predict(np.expand_dims(new_image, axis=0))\n",
        "\n",
        "predicted_class = np.argmax(predicted_probabilities)\n",
        "\n",
        "class_labels = ['notumor', 'meningioma', 'glioma', 'pituitary']\n",
        "\n",
        "predicted_label = class_labels[predicted_class]\n",
        "\n",
        "print(f\"Predicted Class: {predicted_label}\")\n",
        "print(f\"Class Probabilities: {predicted_probabilities}\")\n"
      ],
      "metadata": {
        "colab": {
          "base_uri": "https://localhost:8080/"
        },
        "id": "hjiRdH_NjlBn",
        "outputId": "75ca508f-0836-4b47-f496-c9ba25d9d6d6"
      },
      "execution_count": 27,
      "outputs": [
        {
          "output_type": "stream",
          "name": "stdout",
          "text": [
            "1/1 [==============================] - 0s 68ms/step\n",
            "Predicted Class: pituitary\n",
            "Class Probabilities: [[1.7523694e-09 1.0755357e-04 4.9379258e-04 9.9939859e-01]]\n"
          ]
        }
      ]
    }
  ]
}