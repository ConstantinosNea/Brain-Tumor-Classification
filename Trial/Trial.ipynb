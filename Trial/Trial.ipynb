{
  "nbformat": 4,
  "nbformat_minor": 0,
  "metadata": {
    "colab": {
      "provenance": [],
      "authorship_tag": "ABX9TyOzCrq28vOxLlnZJlVJ/fPC",
      "include_colab_link": true
    },
    "kernelspec": {
      "name": "python3",
      "display_name": "Python 3"
    },
    "language_info": {
      "name": "python"
    }
  },
  "cells": [
    {
      "cell_type": "markdown",
      "metadata": {
        "id": "view-in-github",
        "colab_type": "text"
      },
      "source": [
        "<a href=\"https://colab.research.google.com/github/costpetrides/Brain-Tumor-Classification/blob/main/Trial/Trial.ipynb\" target=\"_parent\"><img src=\"https://colab.research.google.com/assets/colab-badge.svg\" alt=\"Open In Colab\"/></a>"
      ]
    },
    {
      "cell_type": "markdown",
      "source": [
        "#Giloma"
      ],
      "metadata": {
        "id": "eboMXG-qwj2t"
      }
    },
    {
      "cell_type": "code",
      "source": [
        "from tensorflow.keras.models import load_model\n",
        "import numpy as np\n",
        "from tensorflow import keras\n",
        "from PIL import Image\n",
        "\n",
        "model = load_model('/content/BrainTumor_1.h5')\n",
        "\n",
        "image_path = '/content/giloma.jpg'   # Doctors said that was minigioma :(\n",
        "new_image = Image.open(image_path)\n",
        "new_image = new_image.resize((180, 180))\n",
        "new_image = new_image.convert('RGB')  # Convert to RGB format\n",
        "new_image = np.array(new_image) / 255.0\n",
        "\n",
        "# Make a prediction\n",
        "predicted_probabilities = model.predict(np.expand_dims(new_image, axis=0))\n",
        "\n",
        "predicted_class = np.argmax(predicted_probabilities)\n",
        "\n",
        "class_labels = ['giloma', 'meningioma', 'notumor', 'pituitary']\n",
        "\n",
        "predicted_label = class_labels[predicted_class]\n",
        "\n",
        "print(f\"Predicted Class: {predicted_label}\")\n",
        "print(f\"Class Probabilities: {predicted_probabilities}\")"
      ],
      "metadata": {
        "id": "b6Ko6zs8wtiE",
        "outputId": "1090169b-7c43-4f86-9828-2bc5cc14727f",
        "colab": {
          "base_uri": "https://localhost:8080/"
        }
      },
      "execution_count": 5,
      "outputs": [
        {
          "output_type": "stream",
          "name": "stdout",
          "text": [
            "1/1 [==============================] - 0s 99ms/step\n",
            "Predicted Class: giloma\n",
            "Class Probabilities: [[0.58842856 0.229238   0.00592816 0.17640525]]\n"
          ]
        }
      ]
    },
    {
      "cell_type": "code",
      "source": [
        "from tensorflow.keras.models import load_model\n",
        "import numpy as np\n",
        "from tensorflow import keras\n",
        "from PIL import Image\n",
        "\n",
        "model = load_model('/content/BrainTumor_2.h5')\n",
        "\n",
        "image_path = '/content/giloma.jpg'   # Doctors said that was minigioma :(\n",
        "new_image = Image.open(image_path)\n",
        "new_image = new_image.resize((180, 180))\n",
        "new_image = new_image.convert('RGB')  # Convert to RGB format\n",
        "new_image = np.array(new_image) / 255.0\n",
        "\n",
        "# Make a prediction\n",
        "predicted_probabilities = model.predict(np.expand_dims(new_image, axis=0))\n",
        "\n",
        "predicted_class = np.argmax(predicted_probabilities)\n",
        "\n",
        "class_labels = ['giloma', 'meningioma', 'notumor', 'pituitary']\n",
        "\n",
        "predicted_label = class_labels[predicted_class]\n",
        "\n",
        "print(f\"Predicted Class: {predicted_label}\")\n",
        "print(f\"Class Probabilities: {predicted_probabilities}\")"
      ],
      "metadata": {
        "colab": {
          "base_uri": "https://localhost:8080/"
        },
        "id": "hjiRdH_NjlBn",
        "outputId": "451bfbe4-047b-406d-ce94-97207fa3e7b6"
      },
      "execution_count": 2,
      "outputs": [
        {
          "output_type": "stream",
          "name": "stdout",
          "text": [
            "1/1 [==============================] - 0s 282ms/step\n",
            "Predicted Class: giloma\n",
            "Class Probabilities: [[0.58842856 0.229238   0.00592816 0.17640525]]\n"
          ]
        }
      ]
    },
    {
      "cell_type": "code",
      "source": [
        "from tensorflow.keras.models import load_model\n",
        "import numpy as np\n",
        "from tensorflow import keras\n",
        "from PIL import Image\n",
        "\n",
        "model = load_model('/content/BrainTumor_1.h5')\n",
        "\n",
        "image_path = '/content/giloma2.jpg'   # Doctors said that was minigioma :(\n",
        "new_image = Image.open(image_path)\n",
        "new_image = new_image.resize((180, 180))\n",
        "new_image = new_image.convert('RGB')  # Convert to RGB format\n",
        "new_image = np.array(new_image) / 255.0\n",
        "\n",
        "# Make a prediction\n",
        "predicted_probabilities = model.predict(np.expand_dims(new_image, axis=0))\n",
        "\n",
        "predicted_class = np.argmax(predicted_probabilities)\n",
        "\n",
        "class_labels = ['giloma', 'meningioma', 'notumor', 'pituitary']\n",
        "\n",
        "predicted_label = class_labels[predicted_class]\n",
        "\n",
        "print(f\"Predicted Class: {predicted_label}\")\n",
        "print(f\"Class Probabilities: {predicted_probabilities}\")"
      ],
      "metadata": {
        "id": "qV3oW4yvwwVs",
        "outputId": "4974d8a3-3e3c-42e0-b2c2-79b80bc3f1bb",
        "colab": {
          "base_uri": "https://localhost:8080/"
        }
      },
      "execution_count": 6,
      "outputs": [
        {
          "output_type": "stream",
          "name": "stderr",
          "text": [
            "WARNING:tensorflow:5 out of the last 5 calls to <function Model.make_predict_function.<locals>.predict_function at 0x7a765d74e320> triggered tf.function retracing. Tracing is expensive and the excessive number of tracings could be due to (1) creating @tf.function repeatedly in a loop, (2) passing tensors with different shapes, (3) passing Python objects instead of tensors. For (1), please define your @tf.function outside of the loop. For (2), @tf.function has reduce_retracing=True option that can avoid unnecessary retracing. For (3), please refer to https://www.tensorflow.org/guide/function#controlling_retracing and https://www.tensorflow.org/api_docs/python/tf/function for  more details.\n"
          ]
        },
        {
          "output_type": "stream",
          "name": "stdout",
          "text": [
            "1/1 [==============================] - 0s 103ms/step\n",
            "Predicted Class: meningioma\n",
            "Class Probabilities: [[0.31683376 0.6774171  0.00491838 0.00083075]]\n"
          ]
        }
      ]
    },
    {
      "cell_type": "code",
      "source": [
        "from tensorflow.keras.models import load_model\n",
        "import numpy as np\n",
        "from tensorflow import keras\n",
        "from PIL import Image\n",
        "\n",
        "model = load_model('/content/BrainTumor_2.h5')\n",
        "\n",
        "image_path = '/content/giloma2.jpg'   # Doctors said that was minigioma :(\n",
        "new_image = Image.open(image_path)\n",
        "new_image = new_image.resize((180, 180))\n",
        "new_image = new_image.convert('RGB')  # Convert to RGB format\n",
        "new_image = np.array(new_image) / 255.0\n",
        "\n",
        "# Make a prediction\n",
        "predicted_probabilities = model.predict(np.expand_dims(new_image, axis=0))\n",
        "\n",
        "predicted_class = np.argmax(predicted_probabilities)\n",
        "\n",
        "class_labels = ['giloma', 'meningioma', 'notumor', 'pituitary']\n",
        "\n",
        "predicted_label = class_labels[predicted_class]\n",
        "\n",
        "print(f\"Predicted Class: {predicted_label}\")\n",
        "print(f\"Class Probabilities: {predicted_probabilities}\")"
      ],
      "metadata": {
        "id": "T4ApvcCIwXTr",
        "outputId": "c751b836-2761-4d59-f567-a77fa2302d38",
        "colab": {
          "base_uri": "https://localhost:8080/"
        }
      },
      "execution_count": 7,
      "outputs": [
        {
          "output_type": "stream",
          "name": "stderr",
          "text": [
            "WARNING:tensorflow:6 out of the last 6 calls to <function Model.make_predict_function.<locals>.predict_function at 0x7a765d74caf0> triggered tf.function retracing. Tracing is expensive and the excessive number of tracings could be due to (1) creating @tf.function repeatedly in a loop, (2) passing tensors with different shapes, (3) passing Python objects instead of tensors. For (1), please define your @tf.function outside of the loop. For (2), @tf.function has reduce_retracing=True option that can avoid unnecessary retracing. For (3), please refer to https://www.tensorflow.org/guide/function#controlling_retracing and https://www.tensorflow.org/api_docs/python/tf/function for  more details.\n"
          ]
        },
        {
          "output_type": "stream",
          "name": "stdout",
          "text": [
            "1/1 [==============================] - 0s 97ms/step\n",
            "Predicted Class: meningioma\n",
            "Class Probabilities: [[0.31683376 0.6774171  0.00491838 0.00083075]]\n"
          ]
        }
      ]
    },
    {
      "cell_type": "markdown",
      "source": [
        "# Minigioma"
      ],
      "metadata": {
        "id": "DEEP9fwFw6Dj"
      }
    },
    {
      "cell_type": "code",
      "source": [
        "from tensorflow.keras.models import load_model\n",
        "import numpy as np\n",
        "from tensorflow import keras\n",
        "from PIL import Image\n",
        "\n",
        "model = load_model('/content/BrainTumor_1.h5')\n",
        "\n",
        "image_path = '/content/minigioma.jpg'   # Doctors said that was minigioma :(\n",
        "new_image = Image.open(image_path)\n",
        "new_image = new_image.resize((180, 180))\n",
        "new_image = new_image.convert('RGB')  # Convert to RGB format\n",
        "new_image = np.array(new_image) / 255.0\n",
        "\n",
        "# Make a prediction\n",
        "predicted_probabilities = model.predict(np.expand_dims(new_image, axis=0))\n",
        "\n",
        "predicted_class = np.argmax(predicted_probabilities)\n",
        "\n",
        "class_labels = ['giloma', 'meningioma', 'notumor', 'pituitary']\n",
        "\n",
        "predicted_label = class_labels[predicted_class]\n",
        "\n",
        "print(f\"Predicted Class: {predicted_label}\")\n",
        "print(f\"Class Probabilities: {predicted_probabilities}\")"
      ],
      "metadata": {
        "id": "c_7ZDi_Aw7-O",
        "outputId": "cd8980dc-d2d9-49ce-8bf4-49561f2abd77",
        "colab": {
          "base_uri": "https://localhost:8080/"
        }
      },
      "execution_count": null,
      "outputs": [
        {
          "output_type": "stream",
          "name": "stdout",
          "text": [
            "1/1 [==============================] - 0s 107ms/step\n",
            "Predicted Class: meningioma\n",
            "Class Probabilities: [[1.5451302e-15 1.0000000e+00 7.8778356e-10 7.4754181e-14]]\n"
          ]
        }
      ]
    },
    {
      "cell_type": "code",
      "source": [
        "from tensorflow.keras.models import load_model\n",
        "import numpy as np\n",
        "from tensorflow import keras\n",
        "from PIL import Image\n",
        "\n",
        "model = load_model('/content/BrainTumor_2.h5')\n",
        "\n",
        "image_path = '/content/minigioma.jpg'   # Doctors said that was minigioma :(\n",
        "new_image = Image.open(image_path)\n",
        "new_image = new_image.resize((180, 180))\n",
        "new_image = new_image.convert('RGB')  # Convert to RGB format\n",
        "new_image = np.array(new_image) / 255.0\n",
        "\n",
        "# Make a prediction\n",
        "predicted_probabilities = model.predict(np.expand_dims(new_image, axis=0))\n",
        "\n",
        "predicted_class = np.argmax(predicted_probabilities)\n",
        "\n",
        "class_labels = ['giloma', 'meningioma', 'notumor', 'pituitary']\n",
        "\n",
        "predicted_label = class_labels[predicted_class]\n",
        "\n",
        "print(f\"Predicted Class: {predicted_label}\")\n",
        "print(f\"Class Probabilities: {predicted_probabilities}\")"
      ],
      "metadata": {
        "id": "D_AX_hPow8BS",
        "outputId": "b2f12d9c-a090-4aa0-c10b-7cb67e71123f",
        "colab": {
          "base_uri": "https://localhost:8080/"
        }
      },
      "execution_count": null,
      "outputs": [
        {
          "output_type": "stream",
          "name": "stdout",
          "text": [
            "1/1 [==============================] - 0s 97ms/step\n",
            "Predicted Class: meningioma\n",
            "Class Probabilities: [[1.5451302e-15 1.0000000e+00 7.8778356e-10 7.4754181e-14]]\n"
          ]
        }
      ]
    },
    {
      "cell_type": "code",
      "source": [
        "from tensorflow.keras.models import load_model\n",
        "import numpy as np\n",
        "from tensorflow import keras\n",
        "from PIL import Image\n",
        "\n",
        "model = load_model('/content/BrainTumor_1.h5')\n",
        "\n",
        "image_path = '/content/minigioma2.jpg'   # Doctors said that was minigioma :(\n",
        "new_image = Image.open(image_path)\n",
        "new_image = new_image.resize((180, 180))\n",
        "new_image = new_image.convert('RGB')  # Convert to RGB format\n",
        "new_image = np.array(new_image) / 255.0\n",
        "\n",
        "# Make a prediction\n",
        "predicted_probabilities = model.predict(np.expand_dims(new_image, axis=0))\n",
        "\n",
        "predicted_class = np.argmax(predicted_probabilities)\n",
        "\n",
        "class_labels = ['giloma', 'meningioma', 'notumor', 'pituitary']\n",
        "\n",
        "predicted_label = class_labels[predicted_class]\n",
        "\n",
        "print(f\"Predicted Class: {predicted_label}\")\n",
        "print(f\"Class Probabilities: {predicted_probabilities}\")"
      ],
      "metadata": {
        "id": "lA1QUWE6xEjL",
        "outputId": "d625d116-4d2b-478e-910c-32e67cef8f9d",
        "colab": {
          "base_uri": "https://localhost:8080/"
        }
      },
      "execution_count": null,
      "outputs": [
        {
          "output_type": "stream",
          "name": "stdout",
          "text": [
            "1/1 [==============================] - 0s 103ms/step\n",
            "Predicted Class: meningioma\n",
            "Class Probabilities: [[2.7310023e-12 9.9999797e-01 2.0473217e-06 2.7116524e-08]]\n"
          ]
        }
      ]
    },
    {
      "cell_type": "code",
      "source": [
        "from tensorflow.keras.models import load_model\n",
        "import numpy as np\n",
        "from tensorflow import keras\n",
        "from PIL import Image\n",
        "\n",
        "model = load_model('/content/BrainTumor_2.h5')\n",
        "\n",
        "image_path = '/content/minigioma2.jpg'   # Doctors said that was minigioma :(\n",
        "new_image = Image.open(image_path)\n",
        "new_image = new_image.resize((180, 180))\n",
        "new_image = new_image.convert('RGB')  # Convert to RGB format\n",
        "new_image = np.array(new_image) / 255.0\n",
        "\n",
        "# Make a prediction\n",
        "predicted_probabilities = model.predict(np.expand_dims(new_image, axis=0))\n",
        "\n",
        "predicted_class = np.argmax(predicted_probabilities)\n",
        "\n",
        "class_labels = ['giloma', 'meningioma', 'notumor', 'pituitary']\n",
        "\n",
        "predicted_label = class_labels[predicted_class]\n",
        "\n",
        "print(f\"Predicted Class: {predicted_label}\")\n",
        "print(f\"Class Probabilities: {predicted_probabilities}\")"
      ],
      "metadata": {
        "id": "KJQx_GqvxEqs",
        "outputId": "06348734-d2a7-4bc8-b73a-d46b74758859",
        "colab": {
          "base_uri": "https://localhost:8080/"
        }
      },
      "execution_count": null,
      "outputs": [
        {
          "output_type": "stream",
          "name": "stdout",
          "text": [
            "1/1 [==============================] - 0s 101ms/step\n",
            "Predicted Class: meningioma\n",
            "Class Probabilities: [[2.7310023e-12 9.9999797e-01 2.0473217e-06 2.7116524e-08]]\n"
          ]
        }
      ]
    },
    {
      "cell_type": "markdown",
      "source": [
        "#No_Tumor"
      ],
      "metadata": {
        "id": "jOMjoqlIxTS5"
      }
    },
    {
      "cell_type": "code",
      "source": [
        "from tensorflow.keras.models import load_model\n",
        "import numpy as np\n",
        "from tensorflow import keras\n",
        "from PIL import Image\n",
        "\n",
        "model = load_model('/content/BrainTumor_1.h5')\n",
        "\n",
        "image_path = '/content/notumor.jpg'   # Doctors said that was minigioma :(\n",
        "new_image = Image.open(image_path)\n",
        "new_image = new_image.resize((180, 180))\n",
        "new_image = new_image.convert('RGB')  # Convert to RGB format\n",
        "new_image = np.array(new_image) / 255.0\n",
        "\n",
        "# Make a prediction\n",
        "predicted_probabilities = model.predict(np.expand_dims(new_image, axis=0))\n",
        "\n",
        "predicted_class = np.argmax(predicted_probabilities)\n",
        "\n",
        "class_labels = ['giloma', 'meningioma', 'notumor', 'pituitary']\n",
        "\n",
        "predicted_label = class_labels[predicted_class]\n",
        "\n",
        "print(f\"Predicted Class: {predicted_label}\")\n",
        "print(f\"Class Probabilities: {predicted_probabilities}\")"
      ],
      "metadata": {
        "id": "yA-2E5NpxWKg",
        "outputId": "26ced9dc-8020-4bd5-a89f-92ee19cf19ec",
        "colab": {
          "base_uri": "https://localhost:8080/"
        }
      },
      "execution_count": null,
      "outputs": [
        {
          "output_type": "stream",
          "name": "stdout",
          "text": [
            "1/1 [==============================] - 0s 112ms/step\n",
            "Predicted Class: notumor\n",
            "Class Probabilities: [[1.3421450e-12 1.4142764e-03 9.9858570e-01 3.0383987e-10]]\n"
          ]
        }
      ]
    },
    {
      "cell_type": "code",
      "source": [
        "from tensorflow.keras.models import load_model\n",
        "import numpy as np\n",
        "from tensorflow import keras\n",
        "from PIL import Image\n",
        "\n",
        "model = load_model('/content/BrainTumor_2.h5')\n",
        "\n",
        "image_path = '/content/notumor.jpg'    # Doctors said that was minigioma :(\n",
        "new_image = Image.open(image_path)\n",
        "new_image = new_image.resize((180, 180))\n",
        "new_image = new_image.convert('RGB')  # Convert to RGB format\n",
        "new_image = np.array(new_image) / 255.0\n",
        "\n",
        "# Make a prediction\n",
        "predicted_probabilities = model.predict(np.expand_dims(new_image, axis=0))\n",
        "\n",
        "predicted_class = np.argmax(predicted_probabilities)\n",
        "\n",
        "class_labels = ['giloma', 'meningioma', 'notumor', 'pituitary']\n",
        "\n",
        "predicted_label = class_labels[predicted_class]\n",
        "\n",
        "print(f\"Predicted Class: {predicted_label}\")\n",
        "print(f\"Class Probabilities: {predicted_probabilities}\")"
      ],
      "metadata": {
        "id": "1gXilzoyxRAD",
        "outputId": "2d558b16-9ff0-451d-f774-b60647753458",
        "colab": {
          "base_uri": "https://localhost:8080/"
        }
      },
      "execution_count": null,
      "outputs": [
        {
          "output_type": "stream",
          "name": "stdout",
          "text": [
            "1/1 [==============================] - 0s 104ms/step\n",
            "Predicted Class: notumor\n",
            "Class Probabilities: [[1.3421450e-12 1.4142764e-03 9.9858570e-01 3.0383987e-10]]\n"
          ]
        }
      ]
    },
    {
      "cell_type": "code",
      "source": [
        "from tensorflow.keras.models import load_model\n",
        "import numpy as np\n",
        "from tensorflow import keras\n",
        "from PIL import Image\n",
        "\n",
        "model = load_model('/content/BrainTumor_1.h5')\n",
        "\n",
        "image_path = '/content/notumor2.jpg'   # Doctors said that was minigioma :(\n",
        "new_image = Image.open(image_path)\n",
        "new_image = new_image.resize((180, 180))\n",
        "new_image = new_image.convert('RGB')  # Convert to RGB format\n",
        "new_image = np.array(new_image) / 255.0\n",
        "\n",
        "# Make a prediction\n",
        "predicted_probabilities = model.predict(np.expand_dims(new_image, axis=0))\n",
        "\n",
        "predicted_class = np.argmax(predicted_probabilities)\n",
        "\n",
        "class_labels = ['giloma', 'meningioma', 'notumor', 'pituitary']\n",
        "\n",
        "predicted_label = class_labels[predicted_class]\n",
        "\n",
        "print(f\"Predicted Class: {predicted_label}\")\n",
        "print(f\"Class Probabilities: {predicted_probabilities}\")"
      ],
      "metadata": {
        "id": "2Plu_eaXxRC1",
        "outputId": "76dab406-5789-43c2-b5a6-9cd6c95bd3b2",
        "colab": {
          "base_uri": "https://localhost:8080/"
        }
      },
      "execution_count": null,
      "outputs": [
        {
          "output_type": "stream",
          "name": "stdout",
          "text": [
            "1/1 [==============================] - 0s 97ms/step\n",
            "Predicted Class: notumor\n",
            "Class Probabilities: [[2.8200468e-04 5.7264790e-04 9.9904865e-01 9.6695541e-05]]\n"
          ]
        }
      ]
    },
    {
      "cell_type": "code",
      "source": [
        "from tensorflow.keras.models import load_model\n",
        "import numpy as np\n",
        "from tensorflow import keras\n",
        "from PIL import Image\n",
        "\n",
        "model = load_model('/content/BrainTumor_2.h5')\n",
        "\n",
        "image_path = '/content/notumor2.jpg'    # Doctors said that was minigioma :(\n",
        "new_image = Image.open(image_path)\n",
        "new_image = new_image.resize((180, 180))\n",
        "new_image = new_image.convert('RGB')  # Convert to RGB format\n",
        "new_image = np.array(new_image) / 255.0\n",
        "\n",
        "# Make a prediction\n",
        "predicted_probabilities = model.predict(np.expand_dims(new_image, axis=0))\n",
        "\n",
        "predicted_class = np.argmax(predicted_probabilities)\n",
        "\n",
        "class_labels = ['giloma', 'meningioma', 'notumor', 'pituitary']\n",
        "\n",
        "predicted_label = class_labels[predicted_class]\n",
        "\n",
        "print(f\"Predicted Class: {predicted_label}\")\n",
        "print(f\"Class Probabilities: {predicted_probabilities}\")"
      ],
      "metadata": {
        "id": "i7znF_tTxpP2",
        "outputId": "25ea5f1b-3f4f-4c64-f727-bbe5db6a7e42",
        "colab": {
          "base_uri": "https://localhost:8080/"
        }
      },
      "execution_count": null,
      "outputs": [
        {
          "output_type": "stream",
          "name": "stdout",
          "text": [
            "1/1 [==============================] - 0s 109ms/step\n",
            "Predicted Class: notumor\n",
            "Class Probabilities: [[2.8200468e-04 5.7264790e-04 9.9904865e-01 9.6695541e-05]]\n"
          ]
        }
      ]
    },
    {
      "cell_type": "code",
      "source": [
        "from tensorflow.keras.models import load_model\n",
        "import numpy as np\n",
        "from tensorflow import keras\n",
        "from PIL import Image\n",
        "\n",
        "model = load_model('/content/BrainTumor_1.h5')\n",
        "\n",
        "image_path = '/content/pituitary.jpg'   # Doctors said that was minigioma :(\n",
        "new_image = Image.open(image_path)\n",
        "new_image = new_image.resize((180, 180))\n",
        "new_image = new_image.convert('RGB')  # Convert to RGB format\n",
        "new_image = np.array(new_image) / 255.0\n",
        "\n",
        "# Make a prediction\n",
        "predicted_probabilities = model.predict(np.expand_dims(new_image, axis=0))\n",
        "\n",
        "predicted_class = np.argmax(predicted_probabilities)\n",
        "\n",
        "class_labels = ['giloma', 'meningioma', 'notumor', 'pituitary']\n",
        "\n",
        "predicted_label = class_labels[predicted_class]\n",
        "\n",
        "print(f\"Predicted Class: {predicted_label}\")\n",
        "print(f\"Class Probabilities: {predicted_probabilities}\")"
      ],
      "metadata": {
        "id": "F1oe8e2Txzf1",
        "outputId": "6bc34faf-7fd1-499c-af99-300f680a7156",
        "colab": {
          "base_uri": "https://localhost:8080/"
        }
      },
      "execution_count": null,
      "outputs": [
        {
          "output_type": "stream",
          "name": "stdout",
          "text": [
            "1/1 [==============================] - 0s 161ms/step\n",
            "Predicted Class: pituitary\n",
            "Class Probabilities: [[7.1498573e-05 2.4484817e-04 3.7726699e-04 9.9930644e-01]]\n"
          ]
        }
      ]
    },
    {
      "cell_type": "code",
      "source": [
        "from tensorflow.keras.models import load_model\n",
        "import numpy as np\n",
        "from tensorflow import keras\n",
        "from PIL import Image\n",
        "\n",
        "model = load_model('/content/BrainTumor_2.h5')\n",
        "\n",
        "image_path = '/content/pituitary.jpg'   # Doctors said that was minigioma :(\n",
        "new_image = Image.open(image_path)\n",
        "new_image = new_image.resize((180, 180))\n",
        "new_image = new_image.convert('RGB')  # Convert to RGB format\n",
        "new_image = np.array(new_image) / 255.0\n",
        "\n",
        "# Make a prediction\n",
        "predicted_probabilities = model.predict(np.expand_dims(new_image, axis=0))\n",
        "\n",
        "predicted_class = np.argmax(predicted_probabilities)\n",
        "\n",
        "class_labels = ['giloma', 'meningioma', 'notumor', 'pituitary']\n",
        "\n",
        "predicted_label = class_labels[predicted_class]\n",
        "\n",
        "print(f\"Predicted Class: {predicted_label}\")\n",
        "print(f\"Class Probabilities: {predicted_probabilities}\")"
      ],
      "metadata": {
        "id": "j0b-bLwJxzlA",
        "outputId": "524773e0-eace-4113-a4be-659a0143f439",
        "colab": {
          "base_uri": "https://localhost:8080/"
        }
      },
      "execution_count": null,
      "outputs": [
        {
          "output_type": "stream",
          "name": "stdout",
          "text": [
            "1/1 [==============================] - 0s 104ms/step\n",
            "Predicted Class: pituitary\n",
            "Class Probabilities: [[7.1498573e-05 2.4484817e-04 3.7726699e-04 9.9930644e-01]]\n"
          ]
        }
      ]
    },
    {
      "cell_type": "code",
      "source": [
        "from tensorflow.keras.models import load_model\n",
        "import numpy as np\n",
        "from tensorflow import keras\n",
        "from PIL import Image\n",
        "\n",
        "model = load_model('/content/BrainTumor_1.h5')\n",
        "\n",
        "image_path = '/content/pituitary2.jpg'   # Doctors said that was minigioma :(\n",
        "new_image = Image.open(image_path)\n",
        "new_image = new_image.resize((180, 180))\n",
        "new_image = new_image.convert('RGB')  # Convert to RGB format\n",
        "new_image = np.array(new_image) / 255.0\n",
        "\n",
        "# Make a prediction\n",
        "predicted_probabilities = model.predict(np.expand_dims(new_image, axis=0))\n",
        "\n",
        "predicted_class = np.argmax(predicted_probabilities)\n",
        "\n",
        "class_labels = ['giloma', 'meningioma', 'notumor', 'pituitary']\n",
        "\n",
        "predicted_label = class_labels[predicted_class]\n",
        "\n",
        "print(f\"Predicted Class: {predicted_label}\")\n",
        "print(f\"Class Probabilities: {predicted_probabilities}\")"
      ],
      "metadata": {
        "id": "-CAzLWUMyFRj",
        "outputId": "4a0c1381-3f03-4047-f0c7-679346d9c5e1",
        "colab": {
          "base_uri": "https://localhost:8080/"
        }
      },
      "execution_count": null,
      "outputs": [
        {
          "output_type": "stream",
          "name": "stdout",
          "text": [
            "1/1 [==============================] - 0s 109ms/step\n",
            "Predicted Class: pituitary\n",
            "Class Probabilities: [[3.4783548e-10 2.8341788e-06 3.1966979e-06 9.9999392e-01]]\n"
          ]
        }
      ]
    },
    {
      "cell_type": "code",
      "source": [
        "from tensorflow.keras.models import load_model\n",
        "import numpy as np\n",
        "from tensorflow import keras\n",
        "from PIL import Image\n",
        "\n",
        "model = load_model('/content/BrainTumor_2.h5')\n",
        "\n",
        "image_path = '/content/pituitary2.jpg'   # Doctors said that was minigioma :(\n",
        "new_image = Image.open(image_path)\n",
        "new_image = new_image.resize((180, 180))\n",
        "new_image = new_image.convert('RGB')  # Convert to RGB format\n",
        "new_image = np.array(new_image) / 255.0\n",
        "\n",
        "# Make a prediction\n",
        "predicted_probabilities = model.predict(np.expand_dims(new_image, axis=0))\n",
        "\n",
        "predicted_class = np.argmax(predicted_probabilities)\n",
        "\n",
        "class_labels = ['giloma', 'meningioma', 'notumor', 'pituitary']\n",
        "\n",
        "predicted_label = class_labels[predicted_class]\n",
        "\n",
        "print(f\"Predicted Class: {predicted_label}\")\n",
        "print(f\"Class Probabilities: {predicted_probabilities}\")"
      ],
      "metadata": {
        "id": "6j9ZmkjxyH_w",
        "outputId": "0c3ffea1-d4c8-4054-d6f3-e36d483683e5",
        "colab": {
          "base_uri": "https://localhost:8080/"
        }
      },
      "execution_count": null,
      "outputs": [
        {
          "output_type": "stream",
          "name": "stdout",
          "text": [
            "1/1 [==============================] - 0s 99ms/step\n",
            "Predicted Class: pituitary\n",
            "Class Probabilities: [[3.4783548e-10 2.8341788e-06 3.1966979e-06 9.9999392e-01]]\n"
          ]
        }
      ]
    }
  ]
}